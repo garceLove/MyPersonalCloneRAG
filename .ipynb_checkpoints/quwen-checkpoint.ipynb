{
 "cells": [
  {
   "cell_type": "code",
   "execution_count": 1,
   "id": "d15f8b0f-d059-4821-aa6f-29d1246e0cce",
   "metadata": {},
   "outputs": [
    {
     "name": "stdin",
     "output_type": "stream",
     "text": [
      "Enter API key for Alibaba Cloud DashScope:  ········\n"
     ]
    }
   ],
   "source": [
    "import os\n",
    "import getpass\n",
    "from langchain_community.embeddings import DashScopeEmbeddings\n",
    "from langchain_community.chat_models import ChatTongyi\n",
    "\n",
    "# Get your DashScope API key from Alibaba Cloud\n",
    "if not os.environ.get(\"DASHSCOPE_API_KEY\"):\n",
    "    os.environ[\"DASHSCOPE_API_KEY\"] = getpass.getpass(\"Enter API key for Alibaba Cloud DashScope: \")\n",
    "\n",
    "# Initialize the embedding model\n",
    "embeddings = DashScopeEmbeddings(model=\"text-embedding-v2\")\n",
    "\n",
    "# Initialize the Qwen LLM\n",
    "llm = ChatTongyi(model=\"qwen-turbo\")"
   ]
  },
  {
   "cell_type": "code",
   "execution_count": null,
   "id": "c14003e2-ac2b-4ba5-9db9-4a4f607e3f54",
   "metadata": {},
   "outputs": [],
   "source": [
    "from langchain_community.document_loaders import PyPDFLoader\n",
    "from langchain.text_splitter import RecursiveCharacterTextSplitter\n",
    "from langchain.chains import create_retrieval_chain\n",
    "from langchain.chains.combine_documents import create_stuff_documents_chain\n",
    "from langchain_core.prompts import ChatPromptTemplate\n",
    "from langchain_community.vectorstores import FAISS\n",
    "\n",
    "# 1. Load documents from a text file\n",
    "\n",
    "\n",
    "file_path = \"my_simple/nke-10k-2023.pdf\"\n",
    "loader = PyPDFLoader(file_path)\n",
    "\n",
    "docs = loader.load()\n",
    "\n",
    "print(len(docs))\n",
    "\n",
    "# 2. Split documents into chunks\n",
    "text_splitter = RecursiveCharacterTextSplitter()\n",
    "documents = text_splitter.split_documents(docs)\n",
    "\n",
    "# 3. Create a vector store using Qwen embeddings\n",
    "vector = FAISS.from_documents(documents, embeddings)\n",
    "\n",
    "# 4. Create a retriever from the vector store\n",
    "retriever = vector.as_retriever()\n",
    "\n",
    "# 5. Define the prompt template\n",
    "system_prompt = (\n",
    "    \"You are an assistant for question-answering tasks. \"\n",
    "    \"Use the following pieces of retrieved context to answer the question. \"\n",
    "    \"If you don't know the answer, just say that you don't know. \"\n",
    "    \"Use three sentences maximum and keep the answer concise.\\n\\n\"\n",
    "    \"{context}\"\n",
    ")\n",
    "prompt = ChatPromptTemplate.from_messages(\n",
    "    [\n",
    "        (\"system\", system_prompt),\n",
    "        (\"human\", \"{input}\"),\n",
    "    ]\n",
    ")\n",
    "\n",
    "# 6. Create the chains\n",
    "question_answer_chain = create_stuff_documents_chain(llm, prompt)\n",
    "rag_chain = create_retrieval_chain(retriever, question_answer_chain)\n",
    "\n",
    "# 7. Invoke the chain with a question\n",
    "response = rag_chain.invoke({\"input\": \"Your question here based on your document.\"})\n",
    "print(response[\"answer\"])"
   ]
  }
 ],
 "metadata": {
  "kernelspec": {
   "display_name": "Python 3 (ipykernel)",
   "language": "python",
   "name": "python3"
  },
  "language_info": {
   "codemirror_mode": {
    "name": "ipython",
    "version": 3
   },
   "file_extension": ".py",
   "mimetype": "text/x-python",
   "name": "python",
   "nbconvert_exporter": "python",
   "pygments_lexer": "ipython3",
   "version": "3.10.12"
  }
 },
 "nbformat": 4,
 "nbformat_minor": 5
}
